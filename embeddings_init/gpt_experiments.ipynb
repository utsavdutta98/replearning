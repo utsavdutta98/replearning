{
 "cells": [
  {
   "cell_type": "code",
   "execution_count": 2,
   "metadata": {},
   "outputs": [],
   "source": [
    "import argparse\n",
    "from utils import *\n",
    "from model import *\n",
    "from train import *\n",
    "import tqdm\n",
    "from tqdm import tqdm\n",
    "import wandb\n",
    "import os\n",
    "import torch"
   ]
  },
  {
   "cell_type": "code",
   "execution_count": 4,
   "metadata": {},
   "outputs": [],
   "source": [
    "x = torch.tensor([3.0])"
   ]
  },
  {
   "cell_type": "code",
   "execution_count": 12,
   "metadata": {},
   "outputs": [],
   "source": [
    "optimizer = torch.optim.Adam(params=[x],lr=0.01)"
   ]
  },
  {
   "cell_type": "code",
   "execution_count": 13,
   "metadata": {},
   "outputs": [],
   "source": [
    "max_lr = 0.001\n",
    "warmup_steps = 100\n",
    "total_steps = 500"
   ]
  },
  {
   "cell_type": "code",
   "execution_count": 15,
   "metadata": {},
   "outputs": [],
   "source": [
    "lr_scheduler = torch.optim.lr_scheduler.LambdaLR(optimizer, \n",
    "                    lr_lambda=lambda step: \n",
    "                    ((max_lr) / warmup_steps) * step if step < warmup_steps \n",
    "                    else \n",
    "                    0.5 * (max_lr) * (1 + math.cos((step - warmup_steps) / (total_steps - warmup_steps) * math.pi))\n",
    "                    )"
   ]
  },
  {
   "cell_type": "code",
   "execution_count": 17,
   "metadata": {},
   "outputs": [],
   "source": [
    "lrs = []\n",
    "\n",
    "for epoch in range(500):\n",
    "    lr_scheduler.step()\n",
    "    lrs.append(lr_scheduler.get_last_lr())"
   ]
  },
  {
   "cell_type": "code",
   "execution_count": 22,
   "metadata": {},
   "outputs": [],
   "source": [
    "import matplotlib.pyplot as plt"
   ]
  },
  {
   "cell_type": "code",
   "execution_count": 23,
   "metadata": {},
   "outputs": [
    {
     "data": {
      "text/plain": [
       "[<matplotlib.lines.Line2D at 0x7fcbda996760>]"
      ]
     },
     "execution_count": 23,
     "metadata": {},
     "output_type": "execute_result"
    },
    {
     "data": {
      "image/png": "[encoded data removed]",
      "text/plain": [
       "<Figure size 640x480 with 1 Axes>"
      ]
     },
     "metadata": {},
     "output_type": "display_data"
    }
   ],
   "source": [
    "plt.plot(lrs)"
   ]
  },
  {
   "cell_type": "code",
   "execution_count": 2,
   "metadata": {},
   "outputs": [
    {
     "name": "stderr",
     "output_type": "stream",
     "text": [
      "Found cached dataset yelp_review_full (/home/utsav/.cache/huggingface/datasets/yelp_review_full/yelp_review_full/1.0.0/e8e18e19d7be9e75642fc66b198abadb116f73599ec89a69ba5dd8d1e57ba0bf)\n"
     ]
    },
    {
     "data": {
      "application/vnd.jupyter.widget-view+json": {
       "model_id": "b91092671a244c49837106abf95eb7bc",
       "version_major": 2,
       "version_minor": 0
      },
      "text/plain": [
       "  0%|          | 0/2 [00:00<?, ?it/s]"
      ]
     },
     "metadata": {},
     "output_type": "display_data"
    },
    {
     "name": "stdout",
     "output_type": "stream",
     "text": [
      "Converting dataset format to torch for split : train\n",
      "Converting dataset format to torch for split : test\n"
     ]
    }
   ],
   "source": [
    "dataset = load_hf_dataset('yelp_review_full')\n",
    "dataset = prepare_datasets(dataset,0.5)   "
   ]
  },
  {
   "cell_type": "code",
   "execution_count": 3,
   "metadata": {},
   "outputs": [
    {
     "name": "stdout",
     "output_type": "stream",
     "text": [
      "Adding pad_token to tokenizer\n",
      "\n"
     ]
    }
   ],
   "source": [
    "tokenizer = get_tokenizer('GPT2')"
   ]
  },
  {
   "cell_type": "code",
   "execution_count": null,
   "metadata": {},
   "outputs": [],
   "source": [
    "def tokenization(example):\n",
    "    tokenized_example = {}\n",
    "    tokenized_example['text'] = tokenizer.tokenize(example['text'])\n",
    "    return tokenized_example\n",
    "\n",
    "# Apply the tokenizer to all elements in the dataset and create a new dataset\n",
    "tokenized_dataset = dataset.map(tokenization)"
   ]
  },
  {
   "cell_type": "code",
   "execution_count": null,
   "metadata": {},
   "outputs": [],
   "source": [
    "import gensim\n",
    "from gensim.models import Word2Vec"
   ]
  },
  {
   "cell_type": "code",
   "execution_count": null,
   "metadata": {},
   "outputs": [],
   "source": [
    "train_data = tokenized_dataset['train']['text']"
   ]
  },
  {
   "cell_type": "code",
   "execution_count": null,
   "metadata": {},
   "outputs": [],
   "source": [
    "model = Word2Vec(train_data, vector_size=100, window=5, min_count=1, workers=8)"
   ]
  },
  {
   "cell_type": "code",
   "execution_count": null,
   "metadata": {},
   "outputs": [],
   "source": [
    "len(model.wv.key_to_index)"
   ]
  },
  {
   "cell_type": "code",
   "execution_count": null,
   "metadata": {},
   "outputs": [],
   "source": [
    "model.wv.vectors.shape"
   ]
  },
  {
   "cell_type": "code",
   "execution_count": null,
   "metadata": {},
   "outputs": [],
   "source": [
    "len(tokenizer)"
   ]
  },
  {
   "cell_type": "code",
   "execution_count": null,
   "metadata": {},
   "outputs": [],
   "source": [
    "tokenized_dataset"
   ]
  },
  {
   "cell_type": "code",
   "execution_count": null,
   "metadata": {},
   "outputs": [],
   "source": [
    "# def tokenization(example):\n",
    "    # return {'ids':tokenizer(example[\"text\"])['input_ids']}\n",
    "\n",
    "def tokenization(example):\n",
    "    example['text'] = \n",
    "    return {'tokenized_text':tokenizer.tokenize(example['text'])}\n",
    "\n",
    "tokenized_dataset = dataset.map(tokenization, batched=True)"
   ]
  },
  {
   "cell_type": "code",
   "execution_count": null,
   "metadata": {},
   "outputs": [],
   "source": [
    "tokenizer.tokenize(dataset['train'][0]['text'])"
   ]
  },
  {
   "cell_type": "code",
   "execution_count": null,
   "metadata": {},
   "outputs": [],
   "source": [
    "tokenizer.vocab_size"
   ]
  },
  {
   "cell_type": "code",
   "execution_count": null,
   "metadata": {},
   "outputs": [],
   "source": [
    "samples = "
   ]
  },
  {
   "cell_type": "code",
   "execution_count": null,
   "metadata": {},
   "outputs": [],
   "source": [
    "tokenized_dataset['train'][0]['ids']"
   ]
  },
  {
   "cell_type": "code",
   "execution_count": null,
   "metadata": {},
   "outputs": [],
   "source": [
    "tokenizer.tokenize('included')"
   ]
  },
  {
   "cell_type": "code",
   "execution_count": null,
   "metadata": {},
   "outputs": [],
   "source": [
    "tokenizer.get_vocab()['Ġcakes']"
   ]
  },
  {
   "cell_type": "code",
   "execution_count": null,
   "metadata": {},
   "outputs": [],
   "source": [
    "tokenized_dataset['train'][0]"
   ]
  },
  {
   "cell_type": "code",
   "execution_count": null,
   "metadata": {},
   "outputs": [],
   "source": [
    "tokenized_dataset = [[tokenizer.get_vocab()[x] for x in tokenizer.tokenize(dataset['train'][i]['text'])] for i in range(len(dataset['train']))]"
   ]
  },
  {
   "cell_type": "code",
   "execution_count": null,
   "metadata": {},
   "outputs": [],
   "source": []
  },
  {
   "cell_type": "code",
   "execution_count": null,
   "metadata": {},
   "outputs": [],
   "source": [
    "dataset['train'][1]['text']"
   ]
  },
  {
   "cell_type": "code",
   "execution_count": null,
   "metadata": {},
   "outputs": [],
   "source": [
    "dataset['train'][0]['text']"
   ]
  },
  {
   "cell_type": "code",
   "execution_count": null,
   "metadata": {},
   "outputs": [],
   "source": [
    "tokenizer = get_tokenizer('GPT2')"
   ]
  },
  {
   "cell_type": "code",
   "execution_count": null,
   "metadata": {},
   "outputs": [],
   "source": [
    "set_seed(42)"
   ]
  },
  {
   "cell_type": "code",
   "execution_count": 4,
   "metadata": {},
   "outputs": [],
   "source": [
    "train_loader, val_loader, test_loader = prepare_dataloaders(dataset,batch_size=64,num_workers=4)"
   ]
  },
  {
   "cell_type": "code",
   "execution_count": 5,
   "metadata": {},
   "outputs": [],
   "source": [
    "class x:\n",
    "    def __init__(self):\n",
    "        return\n",
    "\n",
    "args = x()\n",
    "args.tokenizer_max_length = 64\n",
    "args.warmup_steps = 100\n",
    "args.num_epochs = 200"
   ]
  },
  {
   "cell_type": "code",
   "execution_count": 6,
   "metadata": {},
   "outputs": [],
   "source": [
    "from accelerate import Accelerator"
   ]
  },
  {
   "cell_type": "code",
   "execution_count": 7,
   "metadata": {},
   "outputs": [],
   "source": [
    "accelerator = Accelerator()"
   ]
  },
  {
   "cell_type": "code",
   "execution_count": 8,
   "metadata": {},
   "outputs": [],
   "source": [
    "use_pretrained_embeddings = True\n",
    "freeze_pretrained_embeddings = True\n",
    "\n",
    "Model1 = ConsolidatedModelClass(\n",
    "        model_name='GPT2',\n",
    "        num_layers=6,\n",
    "        use_pretrained_embeddings=use_pretrained_embeddings,\n",
    "        freeze_pretrained_embeddings=freeze_pretrained_embeddings,\n",
    "        optimizer='AdamW',\n",
    "        lr=0.001,\n",
    "        tokenizer=tokenizer,\n",
    "        scheduler=True,\n",
    "        args=args,\n",
    "        )"
   ]
  },
  {
   "cell_type": "code",
   "execution_count": 9,
   "metadata": {},
   "outputs": [],
   "source": [
    "m,o,t = Model1.accelerator.prepare(Model1.model,Model1.optimizer,train_loader)"
   ]
  },
  {
   "cell_type": "code",
   "execution_count": 10,
   "metadata": {},
   "outputs": [],
   "source": [
    "batch = next(iter(t))"
   ]
  },
  {
   "cell_type": "code",
   "execution_count": 11,
   "metadata": {},
   "outputs": [],
   "source": [
    "tokenized_batch = Model1.tokenizer(batch['text'],\n",
    "                                        return_tensors='pt',\n",
    "                                        padding='max_length',\n",
    "                                        truncation=True,\n",
    "                                        max_length=Model1.args.tokenizer_max_length)"
   ]
  },
  {
   "cell_type": "code",
   "execution_count": 12,
   "metadata": {},
   "outputs": [
    {
     "data": {
      "text/plain": [
       "tensor(19.8383, device='cuda:0', grad_fn=<NllLossBackward0>)"
      ]
     },
     "execution_count": 12,
     "metadata": {},
     "output_type": "execute_result"
    }
   ],
   "source": [
    "Model1.step(batch)"
   ]
  },
  {
   "cell_type": "code",
   "execution_count": null,
   "metadata": {},
   "outputs": [],
   "source": [
    "tokenized_batch"
   ]
  },
  {
   "cell_type": "code",
   "execution_count": null,
   "metadata": {},
   "outputs": [],
   "source": [
    "Model1.model.device"
   ]
  },
  {
   "cell_type": "code",
   "execution_count": null,
   "metadata": {},
   "outputs": [],
   "source": [
    "batch.device"
   ]
  },
  {
   "cell_type": "code",
   "execution_count": null,
   "metadata": {},
   "outputs": [],
   "source": [
    "Model1.step(batch)"
   ]
  },
  {
   "cell_type": "code",
   "execution_count": null,
   "metadata": {},
   "outputs": [],
   "source": [
    "Model1.model.train()\n",
    "\n",
    "# store losses\n",
    "epoch_loss = 0\n",
    "\n",
    "# iterate over dataloader\n",
    "for i,batch in tqdm(enumerate(train_loader)):\n",
    "\n",
    "    # compute loss for each model and log\n",
    "    loss = Model1.step(batch)\n",
    "    epoch_loss += loss\n",
    "\n",
    "# take scheduler step\n",
    "if Model1.scheduler_flag:\n",
    "    Model1.scheduler.step()\n",
    "\n",
    "# log in central dict, with average train loss\n",
    "Model1.losses['train_loss'].append(epoch_loss.item()/len(train_loader))"
   ]
  },
  {
   "cell_type": "code",
   "execution_count": null,
   "metadata": {},
   "outputs": [],
   "source": [
    "for batch in t:\n",
    "    print(batch)\n",
    "    exit()"
   ]
  },
  {
   "cell_type": "code",
   "execution_count": null,
   "metadata": {},
   "outputs": [],
   "source": [
    "Model1.model.device"
   ]
  },
  {
   "cell_type": "code",
   "execution_count": null,
   "metadata": {},
   "outputs": [],
   "source": [
    "Model1.train(train_loader,val_loader)"
   ]
  },
  {
   "cell_type": "code",
   "execution_count": null,
   "metadata": {},
   "outputs": [],
   "source": [
    "Model1.scheduler.get_last_lr()[0]"
   ]
  },
  {
   "cell_type": "code",
   "execution_count": null,
   "metadata": {},
   "outputs": [],
   "source": [
    "Model1.model"
   ]
  },
  {
   "cell_type": "code",
   "execution_count": null,
   "metadata": {},
   "outputs": [],
   "source": [
    "use_pretrained_embeddings = True\n",
    "freeze_pretrained_embeddings = False\n",
    "\n",
    "Model2 = ConsolidatedModelClass(\n",
    "        model_name='GPT2',\n",
    "        num_layers=6,\n",
    "        use_pretrained_embeddings=use_pretrained_embeddings,\n",
    "        freeze_pretrained_embeddings=freeze_pretrained_embeddings,\n",
    "        optimizer='AdamW',\n",
    "        lr=0.001,\n",
    "        tokenizer=tokenizer,\n",
    "        scheduler=None,\n",
    "        args=args,\n",
    "        device='cuda')"
   ]
  },
  {
   "cell_type": "code",
   "execution_count": null,
   "metadata": {},
   "outputs": [],
   "source": [
    "use_pretrained_embeddings = False\n",
    "freeze_pretrained_embeddings = False\n",
    "\n",
    "Model3 = ConsolidatedModelClass(\n",
    "        model_name='GPT2',\n",
    "        num_layers=6,\n",
    "        use_pretrained_embeddings=use_pretrained_embeddings,\n",
    "        freeze_pretrained_embeddings=freeze_pretrained_embeddings,\n",
    "        optimizer='AdamW',\n",
    "        lr=0.001,\n",
    "        tokenizer=tokenizer,\n",
    "        scheduler=None,\n",
    "        args=args,\n",
    "        device='cuda')"
   ]
  },
  {
   "cell_type": "code",
   "execution_count": null,
   "metadata": {},
   "outputs": [],
   "source": [
    "dataset = load_hf_dataset('yelp_review_full')\n",
    "dataset = prepare_datasets(dataset,0.01)   \n",
    "\n",
    "print(\"Length of training dataset:\", len(dataset['train']))\n",
    "print(\"Length of validation dataset:\", len(dataset['test']))\n",
    "\n",
    "# ----------------------------- Load dataloaders ----------------------------- #\n",
    "train_loader, val_loader, test_loader = prepare_dataloaders(dataset,batch_size=64,num_workers=16)"
   ]
  },
  {
   "cell_type": "code",
   "execution_count": null,
   "metadata": {},
   "outputs": [],
   "source": [
    "import gc\n",
    "gc.collect()"
   ]
  },
  {
   "cell_type": "code",
   "execution_count": null,
   "metadata": {},
   "outputs": [],
   "source": [
    "torch.cuda.memory_summary()"
   ]
  },
  {
   "cell_type": "code",
   "execution_count": null,
   "metadata": {},
   "outputs": [],
   "source": [
    "torch.cuda.mem_get_info()"
   ]
  },
  {
   "cell_type": "code",
   "execution_count": null,
   "metadata": {},
   "outputs": [],
   "source": [
    "!nvidia-smi"
   ]
  },
  {
   "cell_type": "code",
   "execution_count": null,
   "metadata": {},
   "outputs": [],
   "source": [
    "with torch.no_grad():\n",
    "    torch.cuda.empty_cache()"
   ]
  },
  {
   "cell_type": "code",
   "execution_count": null,
   "metadata": {},
   "outputs": [],
   "source": [
    "for epoch in tqdm(range(200)):\n",
    "\n",
    "    train_models(Model1,train_loader,args)\n",
    "    evaluate_models(Model1,test_loader,args)\n",
    "\n",
    "    train_models(Model2,train_loader,args)\n",
    "    evaluate_models(Model2,test_loader,args)\n",
    "\n",
    "    train_models(Model3,train_loader,args)\n",
    "    evaluate_models(Model3,test_loader,args)\n",
    "\n",
    "    print(Model1.losses['train_loss'][-1])\n",
    "    print(Model1.losses['val_loss'][-1])\n",
    "\n",
    "    print(Model2.losses['train_loss'][-1])\n",
    "    print(Model2.losses['val_loss'][-1])\n",
    "\n",
    "    print(Model3.losses['train_loss'][-1])\n",
    "    print(Model3.losses['val_loss'][-1])\n",
    "\n",
    "    # # for model in models:\n",
    "    # train_loss = Model1.losses['train_loss'][-1]\n",
    "    # val_loss = Model1.losses['val_loss'][-1]\n",
    "\n",
    "    # print(f\"\\nhas train loss : {train_loss} \\n \\\n",
    "    #                         and test loss : {val_loss}\")\n",
    "\n",
    "    # wandb.log({\n",
    "    #     f\"train loss\" : train_loss,\n",
    "    #     f\"val loss\" : val_loss,\n",
    "    # },\n",
    "    # step = epoch\n",
    "    # )"
   ]
  },
  {
   "cell_type": "code",
   "execution_count": null,
   "metadata": {},
   "outputs": [],
   "source": []
  }
 ],
 "metadata": {
  "kernelspec": {
   "display_name": "Python 3.9.16 ('replearning2': conda)",
   "language": "python",
   "name": "python3"
  },
  "language_info": {
   "codemirror_mode": {
    "name": "ipython",
    "version": 3
   },
   "file_extension": ".py",
   "mimetype": "text/x-python",
   "name": "python",
   "nbconvert_exporter": "python",
   "pygments_lexer": "ipython3",
   "version": "3.9.16"
  },
  "orig_nbformat": 4,
  "vscode": {
   "interpreter": {
    "hash": "3ca15d85a21dc8447415e9277c881cdd22af3252960999305bb60d95159cfefe"
   }
  }
 },
 "nbformat": 4,
 "nbformat_minor": 2
}
