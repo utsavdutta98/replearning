{
 "cells": [
  {
   "cell_type": "code",
   "execution_count": 1,
   "metadata": {},
   "outputs": [],
   "source": [
    "import numpy as np\n",
    "from scipy.stats import powerlaw\n",
    "import matplotlib.pyplot as plt\n",
    "import collections\n",
    "import itertools\n",
    "from utils import *\n",
    "from smoothing import *"
   ]
  },
  {
   "cell_type": "code",
   "execution_count": 12,
   "metadata": {},
   "outputs": [],
   "source": [
    "N_dim = 32\n",
    "\n",
    "p_star = generate_p_star(N=N_dim,a=1.5,symmetric=False,normalized=True)\n",
    "\n",
    "eigs_true,evecs_true = np.linalg.eig(p_star)\n",
    "\n",
    "pmi_star = get_pmi_matrix(p_star,ppmi=True)\n",
    "\n",
    "eigs_true_pmi, evecs_true_pmi = np.linalg.eig(pmi_star)"
   ]
  },
  {
   "cell_type": "code",
   "execution_count": 13,
   "metadata": {},
   "outputs": [
    {
     "data": {
      "text/plain": [
       "(0.0, 10.0)"
      ]
     },
     "execution_count": 13,
     "metadata": {},
     "output_type": "execute_result"
    },
    {
     "data": {
      "image/png": "[encoded data removed]",
      "text/plain": [
       "<Figure size 640x480 with 1 Axes>"
      ]
     },
     "metadata": {},
     "output_type": "display_data"
    }
   ],
   "source": [
    "plt.plot(sorted(p_star.flatten())[::-1])\n",
    "plt.xlim(0,10)"
   ]
  },
  {
   "cell_type": "code",
   "execution_count": 59,
   "metadata": {},
   "outputs": [],
   "source": [
    "# eig2/eig1 experiment for importance sampling\n",
    "\n",
    "num_samples = [10000,50000,100000,200000,500000]\n",
    "alphas = [0.25,0.5,0.75,1]\n",
    "\n",
    "results = {}\n",
    "\n",
    "for n in num_samples:\n",
    "\n",
    "    print(n)\n",
    "\n",
    "    results[n] = {}\n",
    "\n",
    "    for alpha in alphas:\n",
    "\n",
    "        results[n][alpha] = []\n",
    "\n",
    "        for _ in range(50):\n",
    "\n",
    "            samples = sample_from_2d(p_star,n,return_p_hat=False)\n",
    "            eigs,evecs = np.linalg.eig(glove_importance_sampling(samples,alpha=alpha))\n",
    "            eigs = sorted(np.abs(eigs))[::-1]\n",
    "            eigs = eigs/eigs[0]\n",
    "\n",
    "            results[n][alpha].append(eigs)\n",
    "\n",
    "for alpha in alphas:\n",
    "    means = np.mean(np.array([results[n][alpha] for n in num_samples])[:,:,1],axis=1)\n",
    "    std = np.std(np.array([results[n][alpha] for n in num_samples])[:,:,1],axis=1)\n",
    "\n",
    "    plt.plot(num_samples,means,marker=\".\",label=alpha)\n",
    "    plt.fill_between(num_samples,means-std,means+std,alpha=0.2)\n",
    "\n",
    "plt.axhline(y=(eigs_true/eigs_true[0])[1])\n",
    "\n",
    "plt.title(\"eig2/eig1 for different corpus sizes\")\n",
    "plt.xlabel(\"corpus size\")\n",
    "plt.ylabel(\"eig2/eig1\")\n",
    "\n",
    "plt.legend()\n",
    "plt.show()"
   ]
  },
  {
   "cell_type": "code",
   "execution_count": 109,
   "metadata": {},
   "outputs": [
    {
     "name": "stdout",
     "output_type": "stream",
     "text": [
      "Number of samples 10000\n"
     ]
    },
    {
     "name": "stderr",
     "output_type": "stream",
     "text": [
      "/Users/utsavdutta/Desktop/Sem3/Research/representation_learning/smoothing.py:77: RuntimeWarning: invalid value encountered in divide\n",
      "  l = (d * np.sum(np.sign(samples),axis=0,keepdims=True))/counts_context\n",
      "/Users/utsavdutta/Desktop/Sem3/Research/representation_learning/smoothing.py:79: RuntimeWarning: invalid value encountered in divide\n",
      "  p_word_given_context = (np.maximum(samples - d,0) / counts_context) + l * (counts_word / samples.sum())\n"
     ]
    },
    {
     "ename": "LinAlgError",
     "evalue": "Array must not contain infs or NaNs",
     "output_type": "error",
     "traceback": [
      "\u001b[0;31m---------------------------------------------------------------------------\u001b[0m",
      "\u001b[0;31mLinAlgError\u001b[0m                               Traceback (most recent call last)",
      "Cell \u001b[0;32mIn[109], line 67\u001b[0m\n\u001b[1;32m     65\u001b[0m \u001b[38;5;66;03m# kneser ney smoothing\u001b[39;00m\n\u001b[1;32m     66\u001b[0m kneser_ney \u001b[38;5;241m=\u001b[39m kneser_ney_smoothing(samples)\n\u001b[0;32m---> 67\u001b[0m eigs,evecs \u001b[38;5;241m=\u001b[39m \u001b[43mnp\u001b[49m\u001b[38;5;241;43m.\u001b[39;49m\u001b[43mlinalg\u001b[49m\u001b[38;5;241;43m.\u001b[39;49m\u001b[43meig\u001b[49m\u001b[43m(\u001b[49m\u001b[43mkneser_ney\u001b[49m\u001b[43m)\u001b[49m\n\u001b[1;32m     68\u001b[0m results[n][\u001b[38;5;124m'\u001b[39m\u001b[38;5;124mkneser_ney\u001b[39m\u001b[38;5;124m'\u001b[39m][\u001b[38;5;124m'\u001b[39m\u001b[38;5;124meigs\u001b[39m\u001b[38;5;124m'\u001b[39m]\u001b[38;5;241m.\u001b[39mappend(eigs[:\u001b[38;5;241m2\u001b[39m])\n\u001b[1;32m     69\u001b[0m results[n][\u001b[38;5;124m'\u001b[39m\u001b[38;5;124mkneser_ney\u001b[39m\u001b[38;5;124m'\u001b[39m][\u001b[38;5;124m'\u001b[39m\u001b[38;5;124mevecs\u001b[39m\u001b[38;5;124m'\u001b[39m]\u001b[38;5;241m.\u001b[39mappend(evecs[:,:\u001b[38;5;241m2\u001b[39m])\n",
      "File \u001b[0;32m<__array_function__ internals>:180\u001b[0m, in \u001b[0;36meig\u001b[0;34m(*args, **kwargs)\u001b[0m\n",
      "File \u001b[0;32m/opt/homebrew/lib/python3.10/site-packages/numpy/linalg/linalg.py:1312\u001b[0m, in \u001b[0;36meig\u001b[0;34m(a)\u001b[0m\n\u001b[1;32m   1310\u001b[0m _assert_stacked_2d(a)\n\u001b[1;32m   1311\u001b[0m _assert_stacked_square(a)\n\u001b[0;32m-> 1312\u001b[0m _assert_finite(a)\n\u001b[1;32m   1313\u001b[0m t, result_t \u001b[39m=\u001b[39m _commonType(a)\n\u001b[1;32m   1315\u001b[0m extobj \u001b[39m=\u001b[39m get_linalg_error_extobj(\n\u001b[1;32m   1316\u001b[0m     _raise_linalgerror_eigenvalues_nonconvergence)\n",
      "File \u001b[0;32m/opt/homebrew/lib/python3.10/site-packages/numpy/linalg/linalg.py:209\u001b[0m, in \u001b[0;36m_assert_finite\u001b[0;34m(*arrays)\u001b[0m\n\u001b[1;32m    207\u001b[0m \u001b[39mfor\u001b[39;00m a \u001b[39min\u001b[39;00m arrays:\n\u001b[1;32m    208\u001b[0m     \u001b[39mif\u001b[39;00m \u001b[39mnot\u001b[39;00m isfinite(a)\u001b[39m.\u001b[39mall():\n\u001b[0;32m--> 209\u001b[0m         \u001b[39mraise\u001b[39;00m LinAlgError(\u001b[39m\"\u001b[39m\u001b[39mArray must not contain infs or NaNs\u001b[39m\u001b[39m\"\u001b[39m)\n",
      "\u001b[0;31mLinAlgError\u001b[0m: Array must not contain infs or NaNs"
     ]
    }
   ],
   "source": [
    "num_samples = [10000,50000,100000,200000,500000]\n",
    "\n",
    "results = {}\n",
    "\n",
    "methods = ['mle',\n",
    "            'gt',\n",
    "            'svd',\n",
    "            'interp',\n",
    "            'add_k',\n",
    "            'kneser_ney',\n",
    "            'importance_sampling_glove',\n",
    "            'eigenvalue_weighting',\n",
    "            'cds_pmi',\n",
    "            'dirichlet_pmi']\n",
    "\n",
    "for n in num_samples:\n",
    "\n",
    "    print(f\"Number of samples {n}\")\n",
    "\n",
    "    results[n] = {}\n",
    "\n",
    "    for method in methods:\n",
    "\n",
    "        results[n][method] = {'eigs' : [], 'evecs' : [], 'mat' : []}\n",
    "\n",
    "    for _ in range(50):\n",
    "\n",
    "        samples = sample_from_2d(p_star,n,return_p_hat=False)\n",
    "\n",
    "        # MLE estimate \n",
    "        mle = MLE_estimator(samples)\n",
    "        eigs,evecs = np.linalg.eig(mle)\n",
    "        results[n]['mle']['eigs'].append(eigs[:2])\n",
    "        results[n]['mle']['evecs'].append(evecs[:,:2])\n",
    "        results[n]['mle']['mat'].append(mle )\n",
    "\n",
    "        # Good Turing Estimator\n",
    "        gt = good_turing_estimator(samples)\n",
    "        eigs,evecs = np.linalg.eig(gt)\n",
    "        results[n]['gt']['eigs'].append(eigs[:2])\n",
    "        results[n]['gt']['evecs'].append(evecs[:,:2])\n",
    "        results[n]['gt']['mat'].append(gt )\n",
    "\n",
    "        # SVD reconstruction\n",
    "        svd = svd_smoothing(samples)\n",
    "        eigs,evecs = np.linalg.eig(svd)\n",
    "        results[n]['svd']['eigs'].append(eigs[:2])\n",
    "        results[n]['svd']['evecs'].append(evecs[:,:2])\n",
    "        results[n]['svd']['mat'].append(svd )\n",
    "\n",
    "        # Interpolation with uniform prior\n",
    "        interp = interpolation_smoothing(samples,0.95)\n",
    "        eigs,evecs = np.linalg.eig(interp)\n",
    "        results[n]['interp']['eigs'].append(eigs[:2])\n",
    "        results[n]['interp']['evecs'].append(evecs[:,:2])\n",
    "        results[n]['interp']['mat'].append(interp )\n",
    "\n",
    "        # Add-k smoothing\n",
    "        add_k = add_k_smoothing(samples,k=1)\n",
    "        eigs,evecs = np.linalg.eig(add_k)\n",
    "        results[n]['add_k']['eigs'].append(eigs[:2])\n",
    "        results[n]['add_k']['evecs'].append(evecs[:,:2])\n",
    "        results[n]['add_k']['mat'].append(add_k )\n",
    "\n",
    "        # kneser ney smoothing\n",
    "        kneser_ney = kneser_ney_smoothing(samples)\n",
    "        eigs,evecs = np.linalg.eig(kneser_ney)\n",
    "        results[n]['kneser_ney']['eigs'].append(eigs[:2])\n",
    "        results[n]['kneser_ney']['evecs'].append(evecs[:,:2])\n",
    "        results[n]['kneser_ney']['mat'].append(kneser_ney )\n",
    "\n",
    "        # importance sampling (from GloVe)\n",
    "        importance_sampling_glove = glove_importance_sampling(samples)\n",
    "        eigs,evecs = np.linalg.eig(importance_sampling_glove)\n",
    "        results[n]['importance_sampling_glove']['eigs'].append(eigs[:2])\n",
    "        results[n]['importance_sampling_glove']['evecs'].append(evecs[:,:2])\n",
    "        results[n]['importance_sampling_glove']['mat'].append(importance_sampling_glove )\n",
    "\n",
    "        # eigenvalue weighting \n",
    "        eigenvalue_weighting_ = eigenvalue_weighting(samples,p=0.5)\n",
    "        eigs,evecs = np.linalg.eig(eigenvalue_weighting_)\n",
    "        results[n]['eigenvalue_weighting']['eigs'].append(eigs[:2])\n",
    "        results[n]['eigenvalue_weighting']['evecs'].append(evecs[:,:2])\n",
    "        results[n]['eigenvalue_weighting']['mat'].append(eigenvalue_weighting_)\n",
    "\n",
    "        # Estimates for PMI Matrix\n",
    "\n",
    "        # cds smoothing\n",
    "        cds_pmi = cds_smoothing(samples)\n",
    "        cds_ppmi = convert_to_ppmi(cds_pmi)\n",
    "        eigs,evecs = np.linalg.eig(cds_ppmi)\n",
    "        results[n]['cds_pmi']['eigs'].append(eigs[:2])\n",
    "        results[n]['cds_pmi']['evecs'].append(evecs[:,:2])\n",
    "        results[n]['cds_pmi']['mat'].append(cds_ppmi)\n",
    "\n",
    "        # dirichlet smoothing\n",
    "        dirichlet_pmi = dirichlet_smoothing(samples)\n",
    "        dirichlet_ppmi = convert_to_ppmi(dirichlet_pmi)\n",
    "        eigs,evecs = np.linalg.eig(dirichlet_ppmi)\n",
    "        results[n]['dirichlet_pmi']['eigs'].append(eigs[:2])\n",
    "        results[n]['dirichlet_pmi']['evecs'].append(evecs[:,:2])\n",
    "        results[n]['dirichlet_pmi']['mat'].append(dirichlet_ppmi)\n",
    "        "
   ]
  },
  {
   "cell_type": "code",
   "execution_count": null,
   "metadata": {},
   "outputs": [],
   "source": [
    "import pandas as pd\n",
    "df = pd.DataFrame(index=methods,columns=num_samples)"
   ]
  },
  {
   "cell_type": "code",
   "execution_count": null,
   "metadata": {},
   "outputs": [],
   "source": [
    "for method in methods:\n",
    "    for n in num_samples:\n",
    "\n",
    "        if 'pmi' not in method:\n",
    "            df.loc[method][n] = (np.mean(np.abs(np.array(results[n][method]['eigs']) -  eigs_true[:2])[:,0]),\\\n",
    "                np.std(np.abs(np.array(results[n][method]['eigs']) -  eigs_true[:2])[:,0]))\n",
    "        # else:\n",
    "        #     df.loc[method][n] = (np.mean(np.abs(np.array(results[n][method]['eigs']) -  eigs_true[:2])[:,0]),\\\n",
    "        #         np.std(np.abs(np.array(results[n][method]['eigs']) -  eigs_true_pmi[:2])[:,0]),6)"
   ]
  },
  {
   "cell_type": "code",
   "execution_count": null,
   "metadata": {},
   "outputs": [],
   "source": [
    "# Top eig error\n",
    "df"
   ]
  },
  {
   "cell_type": "code",
   "execution_count": null,
   "metadata": {},
   "outputs": [],
   "source": [
    "import pandas as pd\n",
    "df2 = pd.DataFrame(index=methods,columns=num_samples)"
   ]
  },
  {
   "cell_type": "code",
   "execution_count": null,
   "metadata": {},
   "outputs": [],
   "source": [
    "for method in methods:\n",
    "    for n in num_samples:\n",
    "\n",
    "        if 'pmi' not in method:\n",
    "            df2.loc[method][n] = (\n",
    "                np.mean(np.linalg.norm((np.array(results[n][method]['evecs']) - evecs_true[:,:2])[:,:,0],axis=1)) , \\\n",
    "                    np.std(np.linalg.norm((np.array(results[n][method]['evecs']) - evecs_true[:,:2])[:,:,0],axis=1))\n",
    "            )\n",
    "            #  np.mean(np.abs(np.array(results[n][method]['evecs']) -  eigs_true_pmi[:2])[:,0])\n",
    "        # else:\n",
    "        #     df2.loc[method][n] = np.mean(np.abs(np.array(results[n][method]['evecs']) -  eigs_true[:2])[:,0])"
   ]
  },
  {
   "cell_type": "code",
   "execution_count": null,
   "metadata": {},
   "outputs": [],
   "source": [
    "# top evec error, l2\n",
    "df2"
   ]
  },
  {
   "cell_type": "code",
   "execution_count": null,
   "metadata": {},
   "outputs": [],
   "source": [
    "df3 = pd.DataFrame(index=methods,columns=num_samples)"
   ]
  },
  {
   "cell_type": "code",
   "execution_count": null,
   "metadata": {},
   "outputs": [],
   "source": [
    "for method in methods:\n",
    "\n",
    "    for n in num_samples:\n",
    "\n",
    "        df3.loc[method][n] = (\n",
    "            np.mean(np.linalg.norm((np.array(results[n][method]['evecs']) - evecs_true[:,:2])[:,:,0],np.inf,axis=1))\n",
    "            ,\n",
    "            np.round(np.std(np.linalg.norm((np.array(results[n][method]['evecs']) - evecs_true[:,:2])[:,:,0],np.inf,axis=1)),6)\n",
    "        )"
   ]
  },
  {
   "cell_type": "code",
   "execution_count": null,
   "metadata": {},
   "outputs": [],
   "source": [
    "# top evec error, l-inf\n",
    "df3"
   ]
  },
  {
   "cell_type": "code",
   "execution_count": null,
   "metadata": {},
   "outputs": [],
   "source": [
    "for method in methods:\n",
    "\n",
    "    if 'pmi' in method:\n",
    "        data = [(n,np.abs(np.array(results[n][method]['eigs']) -  eigs_true_pmi[:2])[:,0]) for n in num_samples]\n",
    "    else:\n",
    "        data = [(n,np.abs(np.array(results[n][method]['eigs']) -  eigs_true[:2])[:,0]) for n in num_samples]\n",
    "\n",
    "    y_values = [y for x,y in data]\n",
    "    plt.boxplot(y_values, positions=[0,1,2],widths=0.2,meanline=True,showmeans=True)\n",
    "    plt.plot([0,1,2],[np.mean(i) for i in y_values],label=method)\n",
    "\n",
    "\n",
    "plt.xticks([0,1,2],[10000,50000,100000])\n",
    "\n",
    "plt.legend(loc='center left', bbox_to_anchor=(1, 0.5))\n",
    "plt.ylim(0,2)\n",
    "plt.show()"
   ]
  }
 ],
 "metadata": {
  "kernelspec": {
   "display_name": "Python 3.10.10 64-bit",
   "language": "python",
   "name": "python3"
  },
  "language_info": {
   "codemirror_mode": {
    "name": "ipython",
    "version": 3
   },
   "file_extension": ".py",
   "mimetype": "text/x-python",
   "name": "python",
   "nbconvert_exporter": "python",
   "pygments_lexer": "ipython3",
   "version": "3.10.10"
  },
  "orig_nbformat": 4,
  "vscode": {
   "interpreter": {
    "hash": "bd385fe162c5ca0c84973b7dd5c518456272446b2b64e67c2a69f949ca7a1754"
   }
  }
 },
 "nbformat": 4,
 "nbformat_minor": 2
}
